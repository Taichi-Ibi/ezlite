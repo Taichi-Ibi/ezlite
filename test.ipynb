{
 "cells": [
  {
   "cell_type": "code",
   "execution_count": 1,
   "metadata": {},
   "outputs": [
    {
     "ename": "ModuleNotFoundError",
     "evalue": "No module named 'ezlite2'",
     "output_type": "error",
     "traceback": [
      "\u001b[0;31m---------------------------------------------------------------------------\u001b[0m",
      "\u001b[0;31mModuleNotFoundError\u001b[0m                       Traceback (most recent call last)",
      "\u001b[0;32m/var/folders/83/_g6bdl9112v0jvxbvhjfsyk00000gn/T/ipykernel_53673/3118360830.py\u001b[0m in \u001b[0;36m<module>\u001b[0;34m\u001b[0m\n\u001b[0;32m----> 1\u001b[0;31m \u001b[0;32mfrom\u001b[0m \u001b[0mezlite2\u001b[0m \u001b[0;32mimport\u001b[0m \u001b[0;34m*\u001b[0m\u001b[0;34m\u001b[0m\u001b[0;34m\u001b[0m\u001b[0m\n\u001b[0m",
      "\u001b[0;31mModuleNotFoundError\u001b[0m: No module named 'ezlite2'"
     ]
    }
   ],
   "source": [
    "from ezlite2 import *"
   ]
  },
  {
   "cell_type": "code",
   "execution_count": 2,
   "metadata": {},
   "outputs": [
    {
     "name": "stdout",
     "output_type": "stream",
     "text": [
      "Collecting git+https://github.com/Taichi-Ibi/ezlite\n",
      "  Cloning https://github.com/Taichi-Ibi/ezlite to /private/var/folders/83/_g6bdl9112v0jvxbvhjfsyk00000gn/T/pip-req-build-mpx_ejeg\n",
      "  Running command git clone -q https://github.com/Taichi-Ibi/ezlite /private/var/folders/83/_g6bdl9112v0jvxbvhjfsyk00000gn/T/pip-req-build-mpx_ejeg\n",
      "  Resolved https://github.com/Taichi-Ibi/ezlite to commit 590c6555caade18a45401ae99d564ce89debcb1c\n",
      "Building wheels for collected packages: ezlite\n",
      "  Building wheel for ezlite (setup.py) ... \u001b[?25ldone\n",
      "\u001b[?25h  Created wheel for ezlite: filename=ezlite-0.201-py3-none-any.whl size=5540 sha256=e9c6bc3e26d9f82d766811134c214d131407442f1676d232a2b181973ca05059\n",
      "  Stored in directory: /private/var/folders/83/_g6bdl9112v0jvxbvhjfsyk00000gn/T/pip-ephem-wheel-cache-om2fk6p7/wheels/88/e3/52/b184c1259cee1c2f49640453a353920f44010ad95cd0877837\n",
      "Successfully built ezlite\n",
      "Installing collected packages: ezlite\n",
      "  Attempting uninstall: ezlite\n",
      "    Found existing installation: ezlite 0.198\n",
      "    Uninstalling ezlite-0.198:\n",
      "      Successfully uninstalled ezlite-0.198\n",
      "Successfully installed ezlite-0.201\n",
      "Note: you may need to restart the kernel to use updated packages.\n"
     ]
    }
   ],
   "source": [
    "pip install git+https://github.com/Taichi-Ibi/ezlite --upgrade"
   ]
  },
  {
   "cell_type": "code",
   "execution_count": 10,
   "metadata": {},
   "outputs": [
    {
     "data": {
      "text/plain": [
       "'/Users/estyle-085/opt/anaconda3'"
      ]
     },
     "execution_count": 10,
     "metadata": {},
     "output_type": "execute_result"
    }
   ],
   "source": [
    "os.getenv('CONDA_ROOT')"
   ]
  },
  {
   "cell_type": "code",
   "execution_count": 2,
   "metadata": {},
   "outputs": [
    {
     "name": "stdout",
     "output_type": "stream",
     "text": [
      "da[[]jjjj[]]\n"
     ]
    }
   ],
   "source": [
    "path = r'da[jjjj]'\n",
    "\n",
    "def repeat3(s):\n",
    "    return (s, s*3)\n",
    "\n",
    "path = path.replace(*repeat3('['))\n",
    "path = path.replace(*repeat3(']'))\n",
    "path = path.replace('[[[', '[[]')\n",
    "path = path.replace(']]]', '[]]')\n",
    "print(path)"
   ]
  },
  {
   "cell_type": "code",
   "execution_count": null,
   "metadata": {},
   "outputs": [],
   "source": [
    "path = r'da[jjjj]'\n",
    "\n",
    "def replace_list(s, skip_i):\n",
    "    li = []\n",
    "    box = '[[]]'\n",
    "    _s = s*3\n",
    "    s_box = box[]\n",
    "\n",
    "\n",
    "    li.append(s)\n",
    "    return li\n",
    "\n",
    "# li = [\n",
    "#     [l, lll],\n",
    "#     [r, rrr],\n",
    "#     [lll, '[[]'],\n",
    "#     [rrr, '[]]']\n",
    "# ]\n",
    "\n",
    "# for i,l in enumerate(li):\n",
    "#     path = path.replace(*li[i])\n",
    "\n",
    "# print(path)"
   ]
  },
  {
   "cell_type": "code",
   "execution_count": 22,
   "metadata": {},
   "outputs": [
    {
     "name": "stdout",
     "output_type": "stream",
     "text": [
      "da[[]jjjj[]]\n"
     ]
    }
   ],
   "source": [
    "path = r'da[jjjj]'\n",
    "replace_list = [\n",
    "    ['[', '[[[', '[[]'],\n",
    "    [']', ']]]', '[]]']\n",
    "]\n",
    "path = path.replace(replace_list[0][0], replace_list[0][1])\n",
    "path = path.replace(replace_list[1][0], replace_list[1][1])\n",
    "path = path.replace(replace_list[0][1], replace_list[0][2])\n",
    "path = path.replace(replace_list[1][1], replace_list[1][2])\n",
    "print(path)"
   ]
  },
  {
   "cell_type": "code",
   "execution_count": 16,
   "metadata": {},
   "outputs": [
    {
     "name": "stdout",
     "output_type": "stream",
     "text": [
      "[[]\n",
      "[]]\n"
     ]
    }
   ],
   "source": [
    "path = r'da[jjjj]'\n",
    "\n",
    "l = '['\n",
    "lll = l*3\n",
    "\n",
    "r = ']'\n",
    "rrr = r*3\n",
    "\n",
    "box = '[[]]'\n",
    "\n",
    "l_box = box[:-1]\n",
    "r_box = box[1:]\n",
    "\n",
    "print(l_box)\n",
    "print(r_box)\n",
    "\n",
    "# li = [\n",
    "#     [l, lll],\n",
    "#     [r, rrr],\n",
    "#     [lll, '[[]'],\n",
    "#     [rrr, '[]]']\n",
    "# ]\n",
    "\n",
    "# for i,l in enumerate(li):\n",
    "#     path = path.replace(*li[i])\n",
    "\n",
    "# print(path)"
   ]
  },
  {
   "cell_type": "code",
   "execution_count": 13,
   "metadata": {},
   "outputs": [
    {
     "name": "stdout",
     "output_type": "stream",
     "text": [
      "/Users/estyle-085/opt/anaconda3/bin/rst2odt_prepstyles.py\n",
      "- /Users/estyle-085/opt/anaconda3/bin/rst2odt_prepstyles.py 5\n",
      "  18  from tempfile import mkstemp\n",
      "  19  import shutil\n",
      "* 20  import os\n",
      "  21  \n",
      "  22  NAMESPACES = {\n",
      "\n",
      "\n",
      "  39  \n",
      "  40      tempname = mkstemp()\n",
      "* 41      zout = zipfile.ZipFile(os.fdopen(tempname[0], \"w\"), \"w\",\n",
      "  42                             zipfile.ZIP_DEFLATED)\n",
      "  43  \n",
      "  44      for item in zin.infolist():\n",
      "  45          if item.filename == \"styles.xml\":\n",
      "* 46              zout.writestr(item, etree.tostring(root))\n",
      "  47          else:\n",
      "  48              zout.writestr(item, zin.read(item.filename))\n",
      "  49  \n",
      "* 50      zout.close()\n",
      "* 51      zin.close()\n",
      "  52      shutil.move(tempname[1], filename)\n",
      "  53  \n",
      "\n",
      "\n"
     ]
    }
   ],
   "source": [
    "# el.sniff('transform', 'Workspace/**/*.ipynb')\n",
    "# sniff('-', '/Users/estyle-085/opt/anaconda3/bin/rst2xetex.py', environ='CONDA_ROOT', debug=True)\n",
    "sniff('os', '/Users/estyle-085/opt/anaconda3/bin/rst2odt_prepstyles.py', debug=True, limit=5)"
   ]
  }
 ],
 "metadata": {
  "kernelspec": {
   "display_name": "Kenshu",
   "language": "python",
   "name": "python3"
  },
  "language_info": {
   "codemirror_mode": {
    "name": "ipython",
    "version": 3
   },
   "file_extension": ".py",
   "mimetype": "text/x-python",
   "name": "python",
   "nbconvert_exporter": "python",
   "pygments_lexer": "ipython3",
   "version": "3.9.7"
  },
  "orig_nbformat": 4,
  "vscode": {
   "interpreter": {
    "hash": "fb050f06ecfa28ed6828977e08233fb082b8fdd21b38d96a76c0d878db2d90af"
   }
  }
 },
 "nbformat": 4,
 "nbformat_minor": 2
}
