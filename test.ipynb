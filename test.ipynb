{
 "cells": [
  {
   "cell_type": "code",
   "execution_count": 1,
   "metadata": {},
   "outputs": [],
   "source": [
    "from ezlite2 import *"
   ]
  },
  {
   "cell_type": "code",
   "execution_count": 2,
   "metadata": {},
   "outputs": [],
   "source": [
    "# pip install git+https://github.com/Taichi-Ibi/ezlite --upgrade"
   ]
  },
  {
   "cell_type": "code",
   "execution_count": 10,
   "metadata": {},
   "outputs": [
    {
     "name": "stdout",
     "output_type": "stream",
     "text": [
      "/Users/estyle-085\n",
      "/Users/estyle-085/WorkSpace/_past/tdualKenshu/M2Det(Archived)/code/M2Det/test.py\n",
      "/Users/estyle-085/WorkSpace/_past/tdualKenshu/M2Det(Archived)/code/M2Det/test.py\n"
     ]
    }
   ],
   "source": [
    "import os\n",
    "home_path = os.getenv(\"HOME\")\n",
    "print(home_path)\n",
    "pattern = '/Users/estyle-085/WorkSpace/_past/tdualKenshu/M2Det(Archived)/code/M2Det/test.py'\n",
    "print(pattern)\n",
    "pattern = pattern.replace(home_path+'/', \"\")\n",
    "path = os.path.join(home_path, pattern)\n",
    "print(path)"
   ]
  },
  {
   "cell_type": "code",
   "execution_count": 2,
   "metadata": {},
   "outputs": [
    {
     "name": "stdout",
     "output_type": "stream",
     "text": [
      "- /Users/estyle-085/WorkSpace/_past/tdualKenshu/M2Det(Archived)/code/M2Det/test.py 3\n",
      "   39          priors = priors.cuda()\n",
      "   40  \n",
      "*  41  def test_net(save_folder, net, detector, cuda, testset, transform, max_per_image=300, thresh=0.005):\n",
      "   42      if not os.path.exists(save_folder):\n",
      "   43          os.mkdir(save_folder)\n",
      "\n",
      "\n",
      "   56          # step1: CNN detection\n",
      "   57          _t['im_detect'].tic()\n",
      "*  58          boxes, scores = image_forward(img, net, cuda, priors, detector, transform)\n",
      "   59          detect_time = _t['im_detect'].toc()\n",
      "   60          # step2: Post-process: NMS\n",
      "\n",
      "\n",
      "   97               cfg.test_cfg.cuda, \n",
      "   98               testset, \n",
      "*  99               transform = _preprocess, \n",
      "  100               max_per_image = cfg.test_cfg.topk, \n",
      "  101               thresh = cfg.test_cfg.score_threshold)\n",
      "\n",
      "\n"
     ]
    }
   ],
   "source": [
    "# sniff('transform', 'Workspace/**/*.ipynb')\n",
    "sniff('transform', '/Users/estyle-085/WorkSpace/_past/tdualKenshu/M2Det(Archived)/code/M2Det/test.py')"
   ]
  }
 ],
 "metadata": {
  "kernelspec": {
   "display_name": "Kenshu",
   "language": "python",
   "name": "python3"
  },
  "language_info": {
   "codemirror_mode": {
    "name": "ipython",
    "version": 3
   },
   "file_extension": ".py",
   "mimetype": "text/x-python",
   "name": "python",
   "nbconvert_exporter": "python",
   "pygments_lexer": "ipython3",
   "version": "3.9.7"
  },
  "orig_nbformat": 4,
  "vscode": {
   "interpreter": {
    "hash": "fb050f06ecfa28ed6828977e08233fb082b8fdd21b38d96a76c0d878db2d90af"
   }
  }
 },
 "nbformat": 4,
 "nbformat_minor": 2
}
